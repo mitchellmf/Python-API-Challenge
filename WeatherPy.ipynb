{
 "cells": [
  {
   "cell_type": "code",
   "execution_count": 2,
   "metadata": {},
   "outputs": [],
   "source": [
    "# Section 1: All imports.\n",
    "import requests\n",
    "import json\n",
    "from weather_config import api_key\n",
    "from pprint import pprint\n",
    "from pprint import pprint\n",
    "import random as rd\n",
    "from citipy import citipy\n",
    "import matplotlib.pyplot as plt\n",
    "import pandas as pd\n",
    "from scipy import stats"
   ]
  },
  {
   "cell_type": "code",
   "execution_count": 3,
   "metadata": {},
   "outputs": [],
   "source": [
    "# Section 2A: Initialize all lists.\n",
    "lats = []\n",
    "lons = []\n",
    "temps = []\n",
    "humids = []\n",
    "clouds = []\n",
    "winds = []\n",
    "cities = []\n",
    "countries = []\n"
   ]
  },
  {
   "cell_type": "code",
   "execution_count": 4,
   "metadata": {},
   "outputs": [],
   "source": [
    "# Section 2B: Select 500 random cities using citipy. Then find the weather variables for each of those cities from openweathermap.org.\n",
    "for i in range(0, 800):\n",
    "    lat = rd.randrange(-9000,9000) / 100\n",
    "    lon = rd.randrange(-18000,18000) / 100\n",
    "    city = citipy.nearest_city(lat, lon)\n",
    "    city_name = city.city_name\n",
    "    country = city.country_code\n",
    "    if city_name not in cities:\n",
    "        lats.append(lat)\n",
    "        lons.append(lon)\n",
    "        cities.append(city_name)\n",
    "        countries.append(country)    \n",
    "        url = f\"https://api.openweathermap.org/data/2.5/onecall?lat={lat}&lon={lon}&appid={api_key}\"\n",
    "        response = requests.get(url)\n",
    "        resp_json = response.json()\n",
    "        #city_name = resp_json['city']['name']\n",
    "        #country = resp_json['city']['country']\n",
    "        temp = round((resp_json['current']['temp'] - 273) * 1.8 + 32,2)\n",
    "        humid = resp_json['current']['humidity']\n",
    "        cloud = resp_json['current']['clouds']\n",
    "        wind = resp_json['current']['wind_speed']\n",
    "        temps.append(temp)\n",
    "        humids.append(humid)\n",
    "        clouds.append(cloud)\n",
    "        winds.append(wind)\n",
    "print(len(lats))\n",
    "print(len(lons))\n",
    "print(len(temps))\n",
    "print(len(humids))\n",
    "print(len(clouds))\n",
    "print(len(winds))\n",
    "print(len(cities))\n",
    "print(len(countries))\n"
   ]
  },
  {
   "cell_type": "code",
   "execution_count": 5,
   "metadata": {},
   "outputs": [],
   "source": [
    "# Section 3: Compile the individual weather variable lists into one data frame.\n",
    "weather_dict = {\n",
    "    'city' : cities ,\n",
    "    'country' : countries ,\n",
    "    'lat' : lats ,\n",
    "    'lon' : lons ,\n",
    "    'temp' : temps ,\n",
    "    'humid' : humids ,\n",
    "    'clouds' : clouds ,\n",
    "    'winds' : winds    }\n",
    "weather_df = pd.DataFrame(weather_dict)\n",
    "print(weather_df.head())\n"
   ]
  },
  {
   "cell_type": "code",
   "execution_count": 6,
   "metadata": {},
   "outputs": [
    {
     "ename": "SyntaxError",
     "evalue": "(unicode error) 'unicodeescape' codec can't decode bytes in position 2-3: truncated \\UXXXXXXXX escape (<ipython-input-6-7ca9e4c25d45>, line 7)",
     "output_type": "error",
     "traceback": [
      "\u001b[1;36m  File \u001b[1;32m\"<ipython-input-6-7ca9e4c25d45>\"\u001b[1;36m, line \u001b[1;32m7\u001b[0m\n\u001b[1;33m    plt.savefig(\"C:\\Users\\mitch\\Desktop\\Analytical BootCamp\\HOMEWORK\\HW6 - APIs\\Figures\\lat_temp.png\")\u001b[0m\n\u001b[1;37m               ^\u001b[0m\n\u001b[1;31mSyntaxError\u001b[0m\u001b[1;31m:\u001b[0m (unicode error) 'unicodeescape' codec can't decode bytes in position 2-3: truncated \\UXXXXXXXX escape\n"
     ]
    }
   ],
   "source": [
    "# Section 4: Create the four Scatter Plots that compare latitude against the four weather variables.\n",
    "plt.scatter( weather_df['lat'] , weather_df['temp'] , marker=\"o\", facecolors=\"blue\", edgecolors=\"red\")\n",
    "plt.title(\"Latitude vs. Temperature\")\n",
    "plt.xlabel(\"Latitude\")\n",
    "plt.ylabel(\"Temperature (F)\")\n",
    "plt.show()\n",
    "plt.savefig(\"C:\\Users\\mitch\\Desktop\\Analytical BootCamp\\HOMEWORK\\HW6 - APIs\\Figures\\lat_temp.png\")\n",
    "\n",
    "plt.scatter( weather_df['lat'] , weather_df['humid'] , marker=\"o\", facecolors=\"blue\", edgecolors=\"red\")\n",
    "plt.title(\"Latitude vs. Humidity\")\n",
    "plt.xlabel(\"Latitude\")\n",
    "plt.ylabel(\"Humidity (%)\")\n",
    "plt.show()\n",
    "plt.savefig(\"C:\\Users\\mitch\\Desktop\\Analytical BootCamp\\HOMEWORK\\HW6 - APIs\\Figures\\lat_humid.png\")\n",
    "\n",
    "plt.scatter( weather_df['lat'] , weather_df['clouds'] , marker=\"o\", facecolors=\"blue\", edgecolors=\"red\")\n",
    "plt.title(\"Latitude vs. Clouds\")\n",
    "plt.xlabel(\"Latitude\")\n",
    "plt.ylabel(\"Cloud Cover (%)\")\n",
    "plt.show()\n",
    "plt.savefig(\"C:\\Users\\mitch\\Desktop\\Analytical BootCamp\\HOMEWORK\\HW6 - APIs\\Figures\\lat_clouds.png\")\n",
    "\n",
    "plt.scatter( weather_df['lat'] , weather_df['winds'] , marker=\"o\", facecolors=\"blue\", edgecolors=\"red\")\n",
    "plt.title(\"Latitude vs. Wind Speed\")\n",
    "plt.xlabel(\"Latitude\")\n",
    "plt.ylabel(\"Wind Speed\")\n",
    "plt.show()\n",
    "plt.savefig(\"C:\\Users\\mitch\\Desktop\\Analytical BootCamp\\HOMEWORK\\HW6 - APIs\\Figures\\lat_winds.png\")\n"
   ]
  },
  {
   "cell_type": "code",
   "execution_count": 7,
   "metadata": {},
   "outputs": [
    {
     "ename": "NameError",
     "evalue": "name 'weather_df' is not defined",
     "output_type": "error",
     "traceback": [
      "\u001b[1;31m---------------------------------------------------------------------------\u001b[0m",
      "\u001b[1;31mNameError\u001b[0m                                 Traceback (most recent call last)",
      "\u001b[1;32m<ipython-input-7-20a31fa91ec1>\u001b[0m in \u001b[0;36m<module>\u001b[1;34m\u001b[0m\n\u001b[0;32m      1\u001b[0m \u001b[1;31m# Section 5A: Divide the data frame into two data frames based on Northern and Southern hemispheres.\u001b[0m\u001b[1;33m\u001b[0m\u001b[1;33m\u001b[0m\u001b[1;33m\u001b[0m\u001b[0m\n\u001b[1;32m----> 2\u001b[1;33m \u001b[0mweather_df_NH\u001b[0m \u001b[1;33m=\u001b[0m \u001b[0mweather_df\u001b[0m\u001b[1;33m.\u001b[0m\u001b[0mloc\u001b[0m\u001b[1;33m[\u001b[0m\u001b[1;33m(\u001b[0m\u001b[0mweather_df\u001b[0m\u001b[1;33m[\u001b[0m\u001b[1;34m'lat'\u001b[0m\u001b[1;33m]\u001b[0m \u001b[1;33m>\u001b[0m \u001b[1;36m0\u001b[0m\u001b[1;33m)\u001b[0m\u001b[1;33m]\u001b[0m\u001b[1;33m\u001b[0m\u001b[1;33m\u001b[0m\u001b[0m\n\u001b[0m\u001b[0;32m      3\u001b[0m \u001b[0mweather_df_SH\u001b[0m \u001b[1;33m=\u001b[0m \u001b[0mweather_df\u001b[0m\u001b[1;33m.\u001b[0m\u001b[0mloc\u001b[0m\u001b[1;33m[\u001b[0m\u001b[1;33m(\u001b[0m\u001b[0mweather_df\u001b[0m\u001b[1;33m[\u001b[0m\u001b[1;34m'lat'\u001b[0m\u001b[1;33m]\u001b[0m \u001b[1;33m<\u001b[0m \u001b[1;36m0\u001b[0m\u001b[1;33m)\u001b[0m\u001b[1;33m]\u001b[0m\u001b[1;33m\u001b[0m\u001b[1;33m\u001b[0m\u001b[0m\n",
      "\u001b[1;31mNameError\u001b[0m: name 'weather_df' is not defined"
     ]
    }
   ],
   "source": [
    "# Section 5A: Divide the data frame into two data frames based on Northern and Southern hemispheres.\n",
    "weather_df_NH = weather_df.loc[(weather_df['lat'] > 0)]\n",
    "weather_df_SH = weather_df.loc[(weather_df['lat'] < 0)]\n"
   ]
  },
  {
   "cell_type": "code",
   "execution_count": 8,
   "metadata": {},
   "outputs": [
    {
     "ename": "NameError",
     "evalue": "name 'weather_df_NH' is not defined",
     "output_type": "error",
     "traceback": [
      "\u001b[1;31m---------------------------------------------------------------------------\u001b[0m",
      "\u001b[1;31mNameError\u001b[0m                                 Traceback (most recent call last)",
      "\u001b[1;32m<ipython-input-8-7fb8bc680f15>\u001b[0m in \u001b[0;36m<module>\u001b[1;34m\u001b[0m\n\u001b[0;32m      2\u001b[0m \u001b[1;33m\u001b[0m\u001b[0m\n\u001b[0;32m      3\u001b[0m \u001b[1;31m# Section 5B: The next four scatter plots are for the Northern hemisphere.\u001b[0m\u001b[1;33m\u001b[0m\u001b[1;33m\u001b[0m\u001b[1;33m\u001b[0m\u001b[0m\n\u001b[1;32m----> 4\u001b[1;33m \u001b[0mplt\u001b[0m\u001b[1;33m.\u001b[0m\u001b[0mscatter\u001b[0m\u001b[1;33m(\u001b[0m \u001b[0mweather_df_NH\u001b[0m\u001b[1;33m[\u001b[0m\u001b[1;34m'lat'\u001b[0m\u001b[1;33m]\u001b[0m \u001b[1;33m,\u001b[0m \u001b[0mweather_df_NH\u001b[0m\u001b[1;33m[\u001b[0m\u001b[1;34m'temp'\u001b[0m\u001b[1;33m]\u001b[0m \u001b[1;33m,\u001b[0m \u001b[0mmarker\u001b[0m\u001b[1;33m=\u001b[0m\u001b[1;34m\"o\"\u001b[0m\u001b[1;33m,\u001b[0m \u001b[0mfacecolors\u001b[0m\u001b[1;33m=\u001b[0m\u001b[1;34m\"blue\"\u001b[0m\u001b[1;33m,\u001b[0m \u001b[0medgecolors\u001b[0m\u001b[1;33m=\u001b[0m\u001b[1;34m\"red\"\u001b[0m\u001b[1;33m)\u001b[0m\u001b[1;33m\u001b[0m\u001b[1;33m\u001b[0m\u001b[0m\n\u001b[0m\u001b[0;32m      5\u001b[0m \u001b[0mplt\u001b[0m\u001b[1;33m.\u001b[0m\u001b[0mtitle\u001b[0m\u001b[1;33m(\u001b[0m\u001b[1;34m\"Latitude vs. Temperature in the Northern Hemisphere\"\u001b[0m\u001b[1;33m)\u001b[0m\u001b[1;33m\u001b[0m\u001b[1;33m\u001b[0m\u001b[0m\n\u001b[0;32m      6\u001b[0m \u001b[0mplt\u001b[0m\u001b[1;33m.\u001b[0m\u001b[0mxlabel\u001b[0m\u001b[1;33m(\u001b[0m\u001b[1;34m\"Latitude\"\u001b[0m\u001b[1;33m)\u001b[0m\u001b[1;33m\u001b[0m\u001b[1;33m\u001b[0m\u001b[0m\n",
      "\u001b[1;31mNameError\u001b[0m: name 'weather_df_NH' is not defined"
     ]
    }
   ],
   "source": [
    "# Create the eight Scatter Plots that compare latitude against the four weather variables, for the Northern and Southern hemispheres.\n",
    "# Section 5B: The next four scatter plots are for the Northern hemisphere.\n",
    "plt.scatter( weather_df_NH['lat'] , weather_df_NH['temp'] , marker=\"o\", facecolors=\"blue\", edgecolors=\"red\")\n",
    "plt.title(\"Latitude vs. Temperature in the Northern Hemisphere\")\n",
    "plt.xlabel(\"Latitude\")\n",
    "plt.ylabel(\"Temperature (F)\")\n",
    "plt.show()\n",
    "plt.savefig(\"C:\\Users\\mitch\\Desktop\\Analytical BootCamp\\HOMEWORK\\HW6 - APIs\\Figures\\lat_temp_NH.png\")\n",
    "\n",
    "\n",
    "plt.scatter( weather_df_NH['lat'] , weather_df_NH['humid'] , marker=\"o\", facecolors=\"blue\", edgecolors=\"red\")\n",
    "plt.title(\"Latitude vs. Humidity in the Northern Hemisphere \")\n",
    "plt.xlabel(\"Latitude\")\n",
    "plt.ylabel(\"Humidity (%)\")\n",
    "plt.show()\n",
    "plt.savefig(\"C:\\Users\\mitch\\Desktop\\Analytical BootCamp\\HOMEWORK\\HW6 - APIs\\Figures\\lat_humid_NH.png\")\n",
    "\n",
    "plt.scatter( weather_df_NH['lat'] , weather_df_NH['clouds'] , marker=\"o\", facecolors=\"blue\", edgecolors=\"red\")\n",
    "plt.title(\"Latitude vs. Cloud Cover in the Northern Hemisphere \")\n",
    "plt.xlabel(\"Latitude\")\n",
    "plt.ylabel(\"Clouds Cover (%)\")\n",
    "plt.show()\n",
    "plt.savefig(\"C:\\Users\\mitch\\Desktop\\Analytical BootCamp\\HOMEWORK\\HW6 - APIs\\Figures\\lat_clouds_NH.png\")\n",
    "\n",
    "plt.scatter( weather_df_NH['lat'] , weather_df_NH['winds'] , marker=\"o\", facecolors=\"blue\", edgecolors=\"red\")\n",
    "plt.title(\"Latitude vs. Wind Speed in the Northern Hemisphere \")\n",
    "plt.xlabel(\"Latitude\")\n",
    "plt.ylabel(\"Wind Speed\")\n",
    "plt.show()\n",
    "plt.savefig(\"C:\\Users\\mitch\\Desktop\\Analytical BootCamp\\HOMEWORK\\HW6 - APIs\\Figures\\lat_winds_NH.png\")\n"
   ]
  },
  {
   "cell_type": "code",
   "execution_count": 10,
   "metadata": {},
   "outputs": [
    {
     "ename": "SyntaxError",
     "evalue": "(unicode error) 'unicodeescape' codec can't decode bytes in position 2-3: truncated \\UXXXXXXXX escape (<ipython-input-10-95600a662273>, line 7)",
     "output_type": "error",
     "traceback": [
      "\u001b[1;36m  File \u001b[1;32m\"<ipython-input-10-95600a662273>\"\u001b[1;36m, line \u001b[1;32m7\u001b[0m\n\u001b[1;33m    plt.savefig(\"C:\\Users\\mitch\\Desktop\\Analytical BootCamp\\HOMEWORK\\HW6 - APIs\\Figures\\lat_temp_SH.png\")\u001b[0m\n\u001b[1;37m               ^\u001b[0m\n\u001b[1;31mSyntaxError\u001b[0m\u001b[1;31m:\u001b[0m (unicode error) 'unicodeescape' codec can't decode bytes in position 2-3: truncated \\UXXXXXXXX escape\n"
     ]
    }
   ],
   "source": [
    "# Section 5C: The next four scatter plots are for the Southern hemisphere.\n",
    "plt.scatter( weather_df_SH['lat'] , weather_df_SH['temp'] , marker=\"o\", facecolors=\"blue\", edgecolors=\"red\")\n",
    "plt.title(\"Latitude vs. Temperature in the Southern Hemisphere\")\n",
    "plt.xlabel(\"Latitude\")\n",
    "plt.ylabel(\"Temperature (F)\")\n",
    "plt.show()\n",
    "plt.savefig(\"C:\\Users\\mitch\\Desktop\\Analytical BootCamp\\HOMEWORK\\HW6 - APIs\\Figures\\lat_temp_SH.png\")\n",
    "\n",
    "plt.scatter( weather_df_SH['lat'] , weather_df_SH['humid'] , marker=\"o\", facecolors=\"blue\", edgecolors=\"red\")\n",
    "plt.title(\"Latitude vs. Humidity in the Southern Hemisphere \")\n",
    "plt.xlabel(\"Latitude\")\n",
    "plt.ylabel(\"Humidity (%)\")\n",
    "plt.show()\n",
    "plt.savefig(\"C:\\Users\\mitch\\Desktop\\Analytical BootCamp\\HOMEWORK\\HW6 - APIs\\Figures\\lat_humid_SH.png\")\n",
    "\n",
    "plt.scatter( weather_df_SH['lat'] , weather_df_SH['clouds'] , marker=\"o\", facecolors=\"blue\", edgecolors=\"red\")\n",
    "plt.title(\"Latitude vs. Cloud Cover in the Southern Hemisphere \")\n",
    "plt.xlabel(\"Latitude\")\n",
    "plt.ylabel(\"Clouds Cover (%)\")\n",
    "plt.show()\n",
    "plt.savefig(\"C:\\Users\\mitch\\Desktop\\Analytical BootCamp\\HOMEWORK\\HW6 - APIs\\Figures\\lat_clouds_SH.png\")\n",
    "\n",
    "plt.scatter( weather_df_SH['lat'] , weather_df_SH['winds'] , marker=\"o\", facecolors=\"blue\", edgecolors=\"red\")\n",
    "plt.title(\"Latitude vs. Wind Speed in the Southern Hemisphere \")\n",
    "plt.xlabel(\"Latitude\")\n",
    "plt.ylabel(\"Wind Speed\")\n",
    "plt.show()\n",
    "plt.savefig(\"C:\\Users\\mitch\\Desktop\\Analytical BootCamp\\HOMEWORK\\HW6 - APIs\\Figures\\lat_winds_SH.png\")\n"
   ]
  },
  {
   "cell_type": "code",
   "execution_count": 11,
   "metadata": {},
   "outputs": [
    {
     "ename": "NameError",
     "evalue": "name 'weather_df_NH' is not defined",
     "output_type": "error",
     "traceback": [
      "\u001b[1;31m---------------------------------------------------------------------------\u001b[0m",
      "\u001b[1;31mNameError\u001b[0m                                 Traceback (most recent call last)",
      "\u001b[1;32m<ipython-input-11-333c08293067>\u001b[0m in \u001b[0;36m<module>\u001b[1;34m\u001b[0m\n\u001b[0;32m      1\u001b[0m \u001b[1;31m# Section 6A: Linear regression for latitude vs. temperature, for Northern and Southern hemispheres.\u001b[0m\u001b[1;33m\u001b[0m\u001b[1;33m\u001b[0m\u001b[1;33m\u001b[0m\u001b[0m\n\u001b[1;32m----> 2\u001b[1;33m \u001b[0mtempNH_slope\u001b[0m\u001b[1;33m,\u001b[0m \u001b[0mtempNH_int\u001b[0m\u001b[1;33m,\u001b[0m \u001b[0mtempNH_r\u001b[0m\u001b[1;33m,\u001b[0m \u001b[0mtempNH_p\u001b[0m\u001b[1;33m,\u001b[0m \u001b[0mtempNH_std_err\u001b[0m \u001b[1;33m=\u001b[0m \u001b[0mstats\u001b[0m\u001b[1;33m.\u001b[0m\u001b[0mlinregress\u001b[0m\u001b[1;33m(\u001b[0m \u001b[0mweather_df_NH\u001b[0m\u001b[1;33m[\u001b[0m\u001b[1;34m'lat'\u001b[0m\u001b[1;33m]\u001b[0m \u001b[1;33m,\u001b[0m \u001b[0mweather_df_NH\u001b[0m\u001b[1;33m[\u001b[0m\u001b[1;34m'temp'\u001b[0m\u001b[1;33m]\u001b[0m \u001b[1;33m)\u001b[0m\u001b[1;33m\u001b[0m\u001b[1;33m\u001b[0m\u001b[0m\n\u001b[0m\u001b[0;32m      3\u001b[0m \u001b[0mtempSH_slope\u001b[0m\u001b[1;33m,\u001b[0m \u001b[0mtempSH_int\u001b[0m\u001b[1;33m,\u001b[0m \u001b[0mtempSH_r\u001b[0m\u001b[1;33m,\u001b[0m \u001b[0mtempSH_p\u001b[0m\u001b[1;33m,\u001b[0m \u001b[0mtempSH_std_err\u001b[0m \u001b[1;33m=\u001b[0m \u001b[0mstats\u001b[0m\u001b[1;33m.\u001b[0m\u001b[0mlinregress\u001b[0m\u001b[1;33m(\u001b[0m \u001b[0mweather_df_SH\u001b[0m\u001b[1;33m[\u001b[0m\u001b[1;34m'lat'\u001b[0m\u001b[1;33m]\u001b[0m \u001b[1;33m,\u001b[0m \u001b[0mweather_df_SH\u001b[0m\u001b[1;33m[\u001b[0m\u001b[1;34m'temp'\u001b[0m\u001b[1;33m]\u001b[0m \u001b[1;33m)\u001b[0m\u001b[1;33m\u001b[0m\u001b[1;33m\u001b[0m\u001b[0m\n\u001b[0;32m      4\u001b[0m \u001b[0mtempNH_fit\u001b[0m \u001b[1;33m=\u001b[0m \u001b[0mtempNH_slope\u001b[0m \u001b[1;33m*\u001b[0m \u001b[0mweather_df_NH\u001b[0m\u001b[1;33m[\u001b[0m\u001b[1;34m'lat'\u001b[0m\u001b[1;33m]\u001b[0m \u001b[1;33m+\u001b[0m \u001b[0mtempNH_int\u001b[0m\u001b[1;33m\u001b[0m\u001b[1;33m\u001b[0m\u001b[0m\n\u001b[0;32m      5\u001b[0m \u001b[0mtempSH_fit\u001b[0m \u001b[1;33m=\u001b[0m \u001b[0mtempSH_slope\u001b[0m \u001b[1;33m*\u001b[0m \u001b[0mweather_df_SH\u001b[0m\u001b[1;33m[\u001b[0m\u001b[1;34m'lat'\u001b[0m\u001b[1;33m]\u001b[0m \u001b[1;33m+\u001b[0m \u001b[0mtempSH_int\u001b[0m\u001b[1;33m\u001b[0m\u001b[1;33m\u001b[0m\u001b[0m\n",
      "\u001b[1;31mNameError\u001b[0m: name 'weather_df_NH' is not defined"
     ]
    }
   ],
   "source": [
    "# Section 6A: Linear regression for latitude vs. temperature, for Northern and Southern hemispheres.\n",
    "tempNH_slope, tempNH_int, tempNH_r, tempNH_p, tempNH_std_err = stats.linregress( weather_df_NH['lat'] , weather_df_NH['temp'] )\n",
    "tempSH_slope, tempSH_int, tempSH_r, tempSH_p, tempSH_std_err = stats.linregress( weather_df_SH['lat'] , weather_df_SH['temp'] )\n",
    "tempNH_fit = tempNH_slope * weather_df_NH['lat'] + tempNH_int\n",
    "tempSH_fit = tempSH_slope * weather_df_SH['lat'] + tempSH_int\n"
   ]
  },
  {
   "cell_type": "code",
   "execution_count": 12,
   "metadata": {},
   "outputs": [
    {
     "ename": "NameError",
     "evalue": "name 'weather_df_NH' is not defined",
     "output_type": "error",
     "traceback": [
      "\u001b[1;31m---------------------------------------------------------------------------\u001b[0m",
      "\u001b[1;31mNameError\u001b[0m                                 Traceback (most recent call last)",
      "\u001b[1;32m<ipython-input-12-a23ca664232e>\u001b[0m in \u001b[0;36m<module>\u001b[1;34m\u001b[0m\n\u001b[0;32m      1\u001b[0m \u001b[1;31m# Section 6B: Plot of latitude vs. temperature in the Northern hemisphere with linear regression superimposed.\u001b[0m\u001b[1;33m\u001b[0m\u001b[1;33m\u001b[0m\u001b[1;33m\u001b[0m\u001b[0m\n\u001b[1;32m----> 2\u001b[1;33m \u001b[0mplt\u001b[0m\u001b[1;33m.\u001b[0m\u001b[0mscatter\u001b[0m\u001b[1;33m(\u001b[0m \u001b[0mweather_df_NH\u001b[0m\u001b[1;33m[\u001b[0m\u001b[1;34m'lat'\u001b[0m\u001b[1;33m]\u001b[0m \u001b[1;33m,\u001b[0m \u001b[0mweather_df_NH\u001b[0m\u001b[1;33m[\u001b[0m\u001b[1;34m'temp'\u001b[0m\u001b[1;33m]\u001b[0m \u001b[1;33m,\u001b[0m \u001b[0mmarker\u001b[0m\u001b[1;33m=\u001b[0m\u001b[1;34m\"o\"\u001b[0m\u001b[1;33m,\u001b[0m \u001b[0mfacecolors\u001b[0m\u001b[1;33m=\u001b[0m\u001b[1;34m\"blue\"\u001b[0m\u001b[1;33m,\u001b[0m \u001b[0medgecolors\u001b[0m\u001b[1;33m=\u001b[0m\u001b[1;34m\"red\"\u001b[0m\u001b[1;33m)\u001b[0m\u001b[1;33m\u001b[0m\u001b[1;33m\u001b[0m\u001b[0m\n\u001b[0m\u001b[0;32m      3\u001b[0m \u001b[0mplt\u001b[0m\u001b[1;33m.\u001b[0m\u001b[0mtitle\u001b[0m\u001b[1;33m(\u001b[0m\u001b[1;34m\"Latitude vs. Temperature in the Northern Hemisphere\"\u001b[0m\u001b[1;33m)\u001b[0m\u001b[1;33m\u001b[0m\u001b[1;33m\u001b[0m\u001b[0m\n\u001b[0;32m      4\u001b[0m \u001b[0mplt\u001b[0m\u001b[1;33m.\u001b[0m\u001b[0mxlabel\u001b[0m\u001b[1;33m(\u001b[0m\u001b[1;34m\"Latitude\"\u001b[0m\u001b[1;33m)\u001b[0m\u001b[1;33m\u001b[0m\u001b[1;33m\u001b[0m\u001b[0m\n\u001b[0;32m      5\u001b[0m \u001b[0mplt\u001b[0m\u001b[1;33m.\u001b[0m\u001b[0mylabel\u001b[0m\u001b[1;33m(\u001b[0m\u001b[1;34m\"Temperature (F)\"\u001b[0m\u001b[1;33m)\u001b[0m\u001b[1;33m\u001b[0m\u001b[1;33m\u001b[0m\u001b[0m\n",
      "\u001b[1;31mNameError\u001b[0m: name 'weather_df_NH' is not defined"
     ]
    }
   ],
   "source": [
    "# Section 6B: Plot of latitude vs. temperature in the Northern hemisphere with linear regression superimposed.\n",
    "plt.scatter( weather_df_NH['lat'] , weather_df_NH['temp'] , marker=\"o\", facecolors=\"blue\", edgecolors=\"red\")\n",
    "plt.title(\"Latitude vs. Temperature in the Northern Hemisphere\")\n",
    "plt.xlabel(\"Latitude\")\n",
    "plt.ylabel(\"Temperature (F)\")\n",
    "plt.plot( weather_df_NH['lat'] , tempNH_fit,\"--\")\n",
    "plt.show()\n",
    "print(f\"R-squared = {round(tempNH_r**2,2)}\")\n"
   ]
  },
  {
   "cell_type": "code",
   "execution_count": null,
   "metadata": {},
   "outputs": [],
   "source": [
    "# Section 6C: Plot of latitude vs. temperature in the Southern hemisphere with linear regression superimposed.\n",
    "plt.scatter( weather_df_SH['lat'] , weather_df_SH['temp'] , marker=\"o\", facecolors=\"blue\", edgecolors=\"red\")\n",
    "plt.title(\"Latitude vs. Temperature in the Southern Hemisphere \")\n",
    "plt.xlabel(\"Latitude\")\n",
    "plt.ylabel(\"Temperature (F)\")\n",
    "plt.plot( weather_df_SH['lat'] , tempSH_fit,\"--\")\n",
    "plt.show()\n",
    "print(f\"R-squared = {round(tempSH_r**2,2)}\")\n",
    "\n"
   ]
  }
 ],
 "metadata": {
  "kernelspec": {
   "display_name": "Python 3",
   "language": "python",
   "name": "python3"
  },
  "language_info": {
   "codemirror_mode": {
    "name": "ipython",
    "version": 3
   },
   "file_extension": ".py",
   "mimetype": "text/x-python",
   "name": "python",
   "nbconvert_exporter": "python",
   "pygments_lexer": "ipython3",
   "version": "3.7.6"
  }
 },
 "nbformat": 4,
 "nbformat_minor": 4
}
